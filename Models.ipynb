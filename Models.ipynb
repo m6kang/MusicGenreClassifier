{
 "cells": [
  {
   "cell_type": "code",
   "execution_count": 1,
   "metadata": {},
   "outputs": [
    {
     "name": "stderr",
     "output_type": "stream",
     "text": [
      "[nltk_data] Downloading package stopwords to\n",
      "[nltk_data]     C:\\Users\\ltai2\\AppData\\Roaming\\nltk_data...\n",
      "[nltk_data]   Package stopwords is already up-to-date!\n"
     ]
    },
    {
     "data": {
      "text/plain": [
       "True"
      ]
     },
     "execution_count": 1,
     "metadata": {},
     "output_type": "execute_result"
    }
   ],
   "source": [
    "import pandas as pd\n",
    "import string\n",
    "from collections import defaultdict\n",
    "import matplotlib.pyplot as plt\n",
    "import nltk\n",
    "import random\n",
    "import numpy\n",
    "import sklearn\n",
    "from sklearn.metrics import confusion_matrix\n",
    "from sklearn.metrics import ConfusionMatrixDisplay\n",
    "from nltk.corpus import stopwords\n",
    "from sklearn import linear_model\n",
    "import numpy as np\n",
    "from sklearn.preprocessing import normalize\n",
    "import math\n",
    "nltk.download('stopwords')"
   ]
  },
  {
   "cell_type": "code",
   "execution_count": 2,
   "metadata": {},
   "outputs": [],
   "source": [
    "data = pd.read_csv('train.csv')"
   ]
  },
  {
   "cell_type": "code",
   "execution_count": 3,
   "metadata": {},
   "outputs": [
    {
     "data": {
      "text/plain": [
       "290183"
      ]
     },
     "execution_count": 3,
     "metadata": {},
     "output_type": "execute_result"
    }
   ],
   "source": [
    "len(data)"
   ]
  },
  {
   "cell_type": "code",
   "execution_count": 4,
   "metadata": {},
   "outputs": [],
   "source": [
    "# data = data[data['Language'] == 'en']"
   ]
  },
  {
   "cell_type": "code",
   "execution_count": 5,
   "metadata": {},
   "outputs": [
    {
     "data": {
      "text/plain": [
       "290183"
      ]
     },
     "execution_count": 5,
     "metadata": {},
     "output_type": "execute_result"
    }
   ],
   "source": [
    "len(data)"
   ]
  },
  {
   "cell_type": "code",
   "execution_count": 6,
   "metadata": {},
   "outputs": [
    {
     "data": {
      "text/html": [
       "<div>\n",
       "<style scoped>\n",
       "    .dataframe tbody tr th:only-of-type {\n",
       "        vertical-align: middle;\n",
       "    }\n",
       "\n",
       "    .dataframe tbody tr th {\n",
       "        vertical-align: top;\n",
       "    }\n",
       "\n",
       "    .dataframe thead th {\n",
       "        text-align: right;\n",
       "    }\n",
       "</style>\n",
       "<table border=\"1\" class=\"dataframe\">\n",
       "  <thead>\n",
       "    <tr style=\"text-align: right;\">\n",
       "      <th></th>\n",
       "      <th>Artist</th>\n",
       "      <th>Song</th>\n",
       "      <th>Genre</th>\n",
       "      <th>Language</th>\n",
       "      <th>Lyrics</th>\n",
       "    </tr>\n",
       "  </thead>\n",
       "  <tbody>\n",
       "    <tr>\n",
       "      <th>0</th>\n",
       "      <td>12 stones</td>\n",
       "      <td>world so cold</td>\n",
       "      <td>Rock</td>\n",
       "      <td>en</td>\n",
       "      <td>It starts with pain, followed by hate\\nFueled ...</td>\n",
       "    </tr>\n",
       "    <tr>\n",
       "      <th>1</th>\n",
       "      <td>12 stones</td>\n",
       "      <td>broken</td>\n",
       "      <td>Rock</td>\n",
       "      <td>en</td>\n",
       "      <td>Freedom!\\nAlone again again alone\\nPatiently w...</td>\n",
       "    </tr>\n",
       "    <tr>\n",
       "      <th>2</th>\n",
       "      <td>12 stones</td>\n",
       "      <td>3 leaf loser</td>\n",
       "      <td>Rock</td>\n",
       "      <td>en</td>\n",
       "      <td>Biting the hand that feeds you, lying to the v...</td>\n",
       "    </tr>\n",
       "    <tr>\n",
       "      <th>3</th>\n",
       "      <td>12 stones</td>\n",
       "      <td>anthem for the underdog</td>\n",
       "      <td>Rock</td>\n",
       "      <td>en</td>\n",
       "      <td>You say you know just who I am\\nBut you can't ...</td>\n",
       "    </tr>\n",
       "    <tr>\n",
       "      <th>4</th>\n",
       "      <td>12 stones</td>\n",
       "      <td>adrenaline</td>\n",
       "      <td>Rock</td>\n",
       "      <td>en</td>\n",
       "      <td>My heart is beating faster can't control these...</td>\n",
       "    </tr>\n",
       "  </tbody>\n",
       "</table>\n",
       "</div>"
      ],
      "text/plain": [
       "      Artist                     Song Genre Language  \\\n",
       "0  12 stones            world so cold  Rock       en   \n",
       "1  12 stones                   broken  Rock       en   \n",
       "2  12 stones             3 leaf loser  Rock       en   \n",
       "3  12 stones  anthem for the underdog  Rock       en   \n",
       "4  12 stones               adrenaline  Rock       en   \n",
       "\n",
       "                                              Lyrics  \n",
       "0  It starts with pain, followed by hate\\nFueled ...  \n",
       "1  Freedom!\\nAlone again again alone\\nPatiently w...  \n",
       "2  Biting the hand that feeds you, lying to the v...  \n",
       "3  You say you know just who I am\\nBut you can't ...  \n",
       "4  My heart is beating faster can't control these...  "
      ]
     },
     "execution_count": 6,
     "metadata": {},
     "output_type": "execute_result"
    }
   ],
   "source": [
    "data.head()"
   ]
  },
  {
   "cell_type": "code",
   "execution_count": 7,
   "metadata": {},
   "outputs": [],
   "source": [
    "data = data[['Genre', 'Language', 'Lyrics']]"
   ]
  },
  {
   "cell_type": "code",
   "execution_count": 8,
   "metadata": {},
   "outputs": [],
   "source": [
    "data.rename(columns={'Genre':'genre', 'Language':'lang', 'Lyrics':'lyrics'}, inplace=True)"
   ]
  },
  {
   "cell_type": "code",
   "execution_count": 9,
   "metadata": {},
   "outputs": [
    {
     "data": {
      "text/html": [
       "<div>\n",
       "<style scoped>\n",
       "    .dataframe tbody tr th:only-of-type {\n",
       "        vertical-align: middle;\n",
       "    }\n",
       "\n",
       "    .dataframe tbody tr th {\n",
       "        vertical-align: top;\n",
       "    }\n",
       "\n",
       "    .dataframe thead th {\n",
       "        text-align: right;\n",
       "    }\n",
       "</style>\n",
       "<table border=\"1\" class=\"dataframe\">\n",
       "  <thead>\n",
       "    <tr style=\"text-align: right;\">\n",
       "      <th></th>\n",
       "      <th>genre</th>\n",
       "      <th>lang</th>\n",
       "      <th>lyrics</th>\n",
       "    </tr>\n",
       "  </thead>\n",
       "  <tbody>\n",
       "    <tr>\n",
       "      <th>0</th>\n",
       "      <td>Rock</td>\n",
       "      <td>en</td>\n",
       "      <td>It starts with pain, followed by hate\\nFueled ...</td>\n",
       "    </tr>\n",
       "    <tr>\n",
       "      <th>1</th>\n",
       "      <td>Rock</td>\n",
       "      <td>en</td>\n",
       "      <td>Freedom!\\nAlone again again alone\\nPatiently w...</td>\n",
       "    </tr>\n",
       "    <tr>\n",
       "      <th>2</th>\n",
       "      <td>Rock</td>\n",
       "      <td>en</td>\n",
       "      <td>Biting the hand that feeds you, lying to the v...</td>\n",
       "    </tr>\n",
       "    <tr>\n",
       "      <th>3</th>\n",
       "      <td>Rock</td>\n",
       "      <td>en</td>\n",
       "      <td>You say you know just who I am\\nBut you can't ...</td>\n",
       "    </tr>\n",
       "    <tr>\n",
       "      <th>4</th>\n",
       "      <td>Rock</td>\n",
       "      <td>en</td>\n",
       "      <td>My heart is beating faster can't control these...</td>\n",
       "    </tr>\n",
       "    <tr>\n",
       "      <th>...</th>\n",
       "      <td>...</td>\n",
       "      <td>...</td>\n",
       "      <td>...</td>\n",
       "    </tr>\n",
       "    <tr>\n",
       "      <th>290178</th>\n",
       "      <td>R&amp;B</td>\n",
       "      <td>en</td>\n",
       "      <td>I'm the best friend he's got I'd give him the ...</td>\n",
       "    </tr>\n",
       "    <tr>\n",
       "      <th>290179</th>\n",
       "      <td>Pop</td>\n",
       "      <td>en</td>\n",
       "      <td>Bad Boys Blue \"I Totally Miss You\" I did you w...</td>\n",
       "    </tr>\n",
       "    <tr>\n",
       "      <th>290180</th>\n",
       "      <td>Pop</td>\n",
       "      <td>en</td>\n",
       "      <td>Forgive me for the things That I never said to...</td>\n",
       "    </tr>\n",
       "    <tr>\n",
       "      <th>290181</th>\n",
       "      <td>Indie</td>\n",
       "      <td>en</td>\n",
       "      <td>The day they found a cure for AIDS The day the...</td>\n",
       "    </tr>\n",
       "    <tr>\n",
       "      <th>290182</th>\n",
       "      <td>Pop</td>\n",
       "      <td>en</td>\n",
       "      <td>Fourth of July has come, it's custom that we g...</td>\n",
       "    </tr>\n",
       "  </tbody>\n",
       "</table>\n",
       "<p>290183 rows × 3 columns</p>\n",
       "</div>"
      ],
      "text/plain": [
       "        genre lang                                             lyrics\n",
       "0        Rock   en  It starts with pain, followed by hate\\nFueled ...\n",
       "1        Rock   en  Freedom!\\nAlone again again alone\\nPatiently w...\n",
       "2        Rock   en  Biting the hand that feeds you, lying to the v...\n",
       "3        Rock   en  You say you know just who I am\\nBut you can't ...\n",
       "4        Rock   en  My heart is beating faster can't control these...\n",
       "...       ...  ...                                                ...\n",
       "290178    R&B   en  I'm the best friend he's got I'd give him the ...\n",
       "290179    Pop   en  Bad Boys Blue \"I Totally Miss You\" I did you w...\n",
       "290180    Pop   en  Forgive me for the things That I never said to...\n",
       "290181  Indie   en  The day they found a cure for AIDS The day the...\n",
       "290182    Pop   en  Fourth of July has come, it's custom that we g...\n",
       "\n",
       "[290183 rows x 3 columns]"
      ]
     },
     "execution_count": 9,
     "metadata": {},
     "output_type": "execute_result"
    }
   ],
   "source": [
    "data"
   ]
  },
  {
   "cell_type": "code",
   "execution_count": 10,
   "metadata": {},
   "outputs": [
    {
     "data": {
      "text/plain": [
       "array(['Rock', 'Metal', 'Pop', 'Indie', 'R&B', 'Folk', 'Electronic',\n",
       "       'Jazz', 'Hip-Hop', 'Country'], dtype=object)"
      ]
     },
     "execution_count": 10,
     "metadata": {},
     "output_type": "execute_result"
    }
   ],
   "source": [
    "data['genre'].unique()"
   ]
  },
  {
   "cell_type": "code",
   "execution_count": 11,
   "metadata": {},
   "outputs": [],
   "source": [
    "# Rock = 1, Metal = 2, Pop = 3, Indie = 4, Folk = 5, Electronic = 6, R&B = 7, Jazz = 8, Hip-hop = 9, Country = 10\n",
    "data['genre'][data['genre'] == 'Rock'] = 1\n",
    "data['genre'][data['genre'] == 'Metal'] = 2\n",
    "data['genre'][data['genre'] == 'Pop'] = 3\n",
    "data['genre'][data['genre'] == 'Indie'] = 4\n",
    "data['genre'][data['genre'] == 'Folk'] = 5\n",
    "data['genre'][data['genre'] == 'Electronic'] = 6\n",
    "data['genre'][data['genre'] == 'R&B'] = 7\n",
    "data['genre'][data['genre'] == 'Jazz'] = 8\n",
    "data['genre'][data['genre'] == 'Hip-Hop'] = 9\n",
    "data['genre'][data['genre'] == 'Country'] = 10"
   ]
  },
  {
   "cell_type": "code",
   "execution_count": 12,
   "metadata": {},
   "outputs": [
    {
     "data": {
      "text/plain": [
       "0         1\n",
       "1         1\n",
       "2         1\n",
       "3         1\n",
       "4         1\n",
       "         ..\n",
       "290178    7\n",
       "290179    3\n",
       "290180    3\n",
       "290181    4\n",
       "290182    3\n",
       "Name: genre, Length: 290183, dtype: object"
      ]
     },
     "execution_count": 12,
     "metadata": {},
     "output_type": "execute_result"
    }
   ],
   "source": [
    "data['genre']"
   ]
  },
  {
   "cell_type": "code",
   "execution_count": 13,
   "metadata": {},
   "outputs": [
    {
     "data": {
      "text/html": [
       "<div>\n",
       "<style scoped>\n",
       "    .dataframe tbody tr th:only-of-type {\n",
       "        vertical-align: middle;\n",
       "    }\n",
       "\n",
       "    .dataframe tbody tr th {\n",
       "        vertical-align: top;\n",
       "    }\n",
       "\n",
       "    .dataframe thead th {\n",
       "        text-align: right;\n",
       "    }\n",
       "</style>\n",
       "<table border=\"1\" class=\"dataframe\">\n",
       "  <thead>\n",
       "    <tr style=\"text-align: right;\">\n",
       "      <th></th>\n",
       "      <th>genre</th>\n",
       "      <th>lang</th>\n",
       "      <th>lyrics</th>\n",
       "    </tr>\n",
       "  </thead>\n",
       "  <tbody>\n",
       "    <tr>\n",
       "      <th>0</th>\n",
       "      <td>1</td>\n",
       "      <td>en</td>\n",
       "      <td>It starts with pain, followed by hate\\nFueled ...</td>\n",
       "    </tr>\n",
       "    <tr>\n",
       "      <th>1</th>\n",
       "      <td>1</td>\n",
       "      <td>en</td>\n",
       "      <td>Freedom!\\nAlone again again alone\\nPatiently w...</td>\n",
       "    </tr>\n",
       "    <tr>\n",
       "      <th>2</th>\n",
       "      <td>1</td>\n",
       "      <td>en</td>\n",
       "      <td>Biting the hand that feeds you, lying to the v...</td>\n",
       "    </tr>\n",
       "    <tr>\n",
       "      <th>3</th>\n",
       "      <td>1</td>\n",
       "      <td>en</td>\n",
       "      <td>You say you know just who I am\\nBut you can't ...</td>\n",
       "    </tr>\n",
       "    <tr>\n",
       "      <th>4</th>\n",
       "      <td>1</td>\n",
       "      <td>en</td>\n",
       "      <td>My heart is beating faster can't control these...</td>\n",
       "    </tr>\n",
       "    <tr>\n",
       "      <th>...</th>\n",
       "      <td>...</td>\n",
       "      <td>...</td>\n",
       "      <td>...</td>\n",
       "    </tr>\n",
       "    <tr>\n",
       "      <th>290178</th>\n",
       "      <td>7</td>\n",
       "      <td>en</td>\n",
       "      <td>I'm the best friend he's got I'd give him the ...</td>\n",
       "    </tr>\n",
       "    <tr>\n",
       "      <th>290179</th>\n",
       "      <td>3</td>\n",
       "      <td>en</td>\n",
       "      <td>Bad Boys Blue \"I Totally Miss You\" I did you w...</td>\n",
       "    </tr>\n",
       "    <tr>\n",
       "      <th>290180</th>\n",
       "      <td>3</td>\n",
       "      <td>en</td>\n",
       "      <td>Forgive me for the things That I never said to...</td>\n",
       "    </tr>\n",
       "    <tr>\n",
       "      <th>290181</th>\n",
       "      <td>4</td>\n",
       "      <td>en</td>\n",
       "      <td>The day they found a cure for AIDS The day the...</td>\n",
       "    </tr>\n",
       "    <tr>\n",
       "      <th>290182</th>\n",
       "      <td>3</td>\n",
       "      <td>en</td>\n",
       "      <td>Fourth of July has come, it's custom that we g...</td>\n",
       "    </tr>\n",
       "  </tbody>\n",
       "</table>\n",
       "<p>290183 rows × 3 columns</p>\n",
       "</div>"
      ],
      "text/plain": [
       "       genre lang                                             lyrics\n",
       "0          1   en  It starts with pain, followed by hate\\nFueled ...\n",
       "1          1   en  Freedom!\\nAlone again again alone\\nPatiently w...\n",
       "2          1   en  Biting the hand that feeds you, lying to the v...\n",
       "3          1   en  You say you know just who I am\\nBut you can't ...\n",
       "4          1   en  My heart is beating faster can't control these...\n",
       "...      ...  ...                                                ...\n",
       "290178     7   en  I'm the best friend he's got I'd give him the ...\n",
       "290179     3   en  Bad Boys Blue \"I Totally Miss You\" I did you w...\n",
       "290180     3   en  Forgive me for the things That I never said to...\n",
       "290181     4   en  The day they found a cure for AIDS The day the...\n",
       "290182     3   en  Fourth of July has come, it's custom that we g...\n",
       "\n",
       "[290183 rows x 3 columns]"
      ]
     },
     "execution_count": 13,
     "metadata": {},
     "output_type": "execute_result"
    }
   ],
   "source": [
    "data"
   ]
  },
  {
   "cell_type": "code",
   "execution_count": 14,
   "metadata": {},
   "outputs": [],
   "source": [
    "data.dropna(axis=0, inplace=True)"
   ]
  },
  {
   "cell_type": "code",
   "execution_count": 15,
   "metadata": {},
   "outputs": [
    {
     "data": {
      "text/plain": [
       "0"
      ]
     },
     "execution_count": 15,
     "metadata": {},
     "output_type": "execute_result"
    }
   ],
   "source": [
    "data['lyrics'].isna().sum()"
   ]
  },
  {
   "cell_type": "code",
   "execution_count": 16,
   "metadata": {},
   "outputs": [],
   "source": [
    "data = data.reset_index()"
   ]
  },
  {
   "cell_type": "code",
   "execution_count": 17,
   "metadata": {},
   "outputs": [
    {
     "data": {
      "text/html": [
       "<div>\n",
       "<style scoped>\n",
       "    .dataframe tbody tr th:only-of-type {\n",
       "        vertical-align: middle;\n",
       "    }\n",
       "\n",
       "    .dataframe tbody tr th {\n",
       "        vertical-align: top;\n",
       "    }\n",
       "\n",
       "    .dataframe thead th {\n",
       "        text-align: right;\n",
       "    }\n",
       "</style>\n",
       "<table border=\"1\" class=\"dataframe\">\n",
       "  <thead>\n",
       "    <tr style=\"text-align: right;\">\n",
       "      <th></th>\n",
       "      <th>index</th>\n",
       "      <th>genre</th>\n",
       "      <th>lang</th>\n",
       "      <th>lyrics</th>\n",
       "    </tr>\n",
       "  </thead>\n",
       "  <tbody>\n",
       "    <tr>\n",
       "      <th>0</th>\n",
       "      <td>0</td>\n",
       "      <td>1</td>\n",
       "      <td>en</td>\n",
       "      <td>It starts with pain, followed by hate\\nFueled ...</td>\n",
       "    </tr>\n",
       "    <tr>\n",
       "      <th>1</th>\n",
       "      <td>1</td>\n",
       "      <td>1</td>\n",
       "      <td>en</td>\n",
       "      <td>Freedom!\\nAlone again again alone\\nPatiently w...</td>\n",
       "    </tr>\n",
       "    <tr>\n",
       "      <th>2</th>\n",
       "      <td>2</td>\n",
       "      <td>1</td>\n",
       "      <td>en</td>\n",
       "      <td>Biting the hand that feeds you, lying to the v...</td>\n",
       "    </tr>\n",
       "    <tr>\n",
       "      <th>3</th>\n",
       "      <td>3</td>\n",
       "      <td>1</td>\n",
       "      <td>en</td>\n",
       "      <td>You say you know just who I am\\nBut you can't ...</td>\n",
       "    </tr>\n",
       "    <tr>\n",
       "      <th>4</th>\n",
       "      <td>4</td>\n",
       "      <td>1</td>\n",
       "      <td>en</td>\n",
       "      <td>My heart is beating faster can't control these...</td>\n",
       "    </tr>\n",
       "    <tr>\n",
       "      <th>...</th>\n",
       "      <td>...</td>\n",
       "      <td>...</td>\n",
       "      <td>...</td>\n",
       "      <td>...</td>\n",
       "    </tr>\n",
       "    <tr>\n",
       "      <th>290139</th>\n",
       "      <td>290178</td>\n",
       "      <td>7</td>\n",
       "      <td>en</td>\n",
       "      <td>I'm the best friend he's got I'd give him the ...</td>\n",
       "    </tr>\n",
       "    <tr>\n",
       "      <th>290140</th>\n",
       "      <td>290179</td>\n",
       "      <td>3</td>\n",
       "      <td>en</td>\n",
       "      <td>Bad Boys Blue \"I Totally Miss You\" I did you w...</td>\n",
       "    </tr>\n",
       "    <tr>\n",
       "      <th>290141</th>\n",
       "      <td>290180</td>\n",
       "      <td>3</td>\n",
       "      <td>en</td>\n",
       "      <td>Forgive me for the things That I never said to...</td>\n",
       "    </tr>\n",
       "    <tr>\n",
       "      <th>290142</th>\n",
       "      <td>290181</td>\n",
       "      <td>4</td>\n",
       "      <td>en</td>\n",
       "      <td>The day they found a cure for AIDS The day the...</td>\n",
       "    </tr>\n",
       "    <tr>\n",
       "      <th>290143</th>\n",
       "      <td>290182</td>\n",
       "      <td>3</td>\n",
       "      <td>en</td>\n",
       "      <td>Fourth of July has come, it's custom that we g...</td>\n",
       "    </tr>\n",
       "  </tbody>\n",
       "</table>\n",
       "<p>290144 rows × 4 columns</p>\n",
       "</div>"
      ],
      "text/plain": [
       "         index genre lang                                             lyrics\n",
       "0            0     1   en  It starts with pain, followed by hate\\nFueled ...\n",
       "1            1     1   en  Freedom!\\nAlone again again alone\\nPatiently w...\n",
       "2            2     1   en  Biting the hand that feeds you, lying to the v...\n",
       "3            3     1   en  You say you know just who I am\\nBut you can't ...\n",
       "4            4     1   en  My heart is beating faster can't control these...\n",
       "...        ...   ...  ...                                                ...\n",
       "290139  290178     7   en  I'm the best friend he's got I'd give him the ...\n",
       "290140  290179     3   en  Bad Boys Blue \"I Totally Miss You\" I did you w...\n",
       "290141  290180     3   en  Forgive me for the things That I never said to...\n",
       "290142  290181     4   en  The day they found a cure for AIDS The day the...\n",
       "290143  290182     3   en  Fourth of July has come, it's custom that we g...\n",
       "\n",
       "[290144 rows x 4 columns]"
      ]
     },
     "execution_count": 17,
     "metadata": {},
     "output_type": "execute_result"
    }
   ],
   "source": [
    "data"
   ]
  },
  {
   "cell_type": "code",
   "execution_count": 18,
   "metadata": {},
   "outputs": [],
   "source": [
    "data_dict = data.set_index('index').T.to_dict()"
   ]
  },
  {
   "cell_type": "code",
   "execution_count": 19,
   "metadata": {},
   "outputs": [
    {
     "data": {
      "text/plain": [
       "{'genre': 1,\n",
       " 'lang': 'en',\n",
       " 'lyrics': \"Freedom!\\nAlone again again alone\\nPatiently waiting by the phone\\nHoping that you will call me home\\nThe pain inside my love denied\\nHopes and dreams swallowed by pride\\nEverything I need it lies in you\\n'Cause I'm broken\\nI know I need you now\\n'Cause deep inside I'm broken\\nYou see the way I live\\nI know I know your heart is broken\\nWhen I turn away\\nI need to be broken\\nTake the pain away\\nI question why you chose to die\\nWhen you knew your truth I would deny\\nYou look at me\\nThe tears begin to fall\\nAnd all in all faith is blind\\nBut I fail time after time\\nDaily in my sin I take your life\\n'Cause I'm broken\\nI know I need you now\\n'Cause deep inside I'm broken\\nYou see the way I live\\nI know I know your heart is broken\\nWhen I turn away\\nI need to be broken\\nTake the pain away\\nAll the hate deep inside\\nSlowly covering my eyes\\nAll these things I hide\\nAway from you again\\nAll this fear holding me\\nMy heart is cold and I believe\\nNothing's gonna change\\nUntil I'm broken\\nThis time\\nLet go!\\n'Cause I'm broken\\nI know I need you now\\n'Cause deep inside I'm broken\\nYou see the way I live\\nI know I know your heart is broken\\nWhen I turn away\\nI need to be broken\\nTake the pain away\\nBroken\\nBroken\\nBroken\\nBroken\"}"
      ]
     },
     "execution_count": 19,
     "metadata": {},
     "output_type": "execute_result"
    }
   ],
   "source": [
    "data_dict[1]"
   ]
  },
  {
   "cell_type": "code",
   "execution_count": 20,
   "metadata": {},
   "outputs": [],
   "source": [
    "punct = set(string.punctuation)\n",
    "def cleanLyrics(data):\n",
    "    for d in data:           \n",
    "        data[d]['lyrics'] = data[d]['lyrics'].replace('\\n', ' ').lower()\n",
    "        non_punct = []\n",
    "        for w in data[d]['lyrics'].split():\n",
    "            w = ''.join([c for c in w.lower() if not c in punct])\n",
    "            non_punct.append(w)\n",
    "        delim = \" \"\n",
    "        data[d]['lyrics'] = delim.join(non_punct)"
   ]
  },
  {
   "cell_type": "code",
   "execution_count": 21,
   "metadata": {},
   "outputs": [],
   "source": [
    "cleanLyrics(data_dict)"
   ]
  },
  {
   "cell_type": "code",
   "execution_count": 22,
   "metadata": {},
   "outputs": [
    {
     "data": {
      "text/plain": [
       "{'genre': 1,\n",
       " 'lang': 'en',\n",
       " 'lyrics': 'freedom alone again again alone patiently waiting by the phone hoping that you will call me home the pain inside my love denied hopes and dreams swallowed by pride everything i need it lies in you cause im broken i know i need you now cause deep inside im broken you see the way i live i know i know your heart is broken when i turn away i need to be broken take the pain away i question why you chose to die when you knew your truth i would deny you look at me the tears begin to fall and all in all faith is blind but i fail time after time daily in my sin i take your life cause im broken i know i need you now cause deep inside im broken you see the way i live i know i know your heart is broken when i turn away i need to be broken take the pain away all the hate deep inside slowly covering my eyes all these things i hide away from you again all this fear holding me my heart is cold and i believe nothings gonna change until im broken this time let go cause im broken i know i need you now cause deep inside im broken you see the way i live i know i know your heart is broken when i turn away i need to be broken take the pain away broken broken broken broken'}"
      ]
     },
     "execution_count": 22,
     "metadata": {},
     "output_type": "execute_result"
    }
   ],
   "source": [
    "data_dict[1]"
   ]
  },
  {
   "cell_type": "markdown",
   "metadata": {},
   "source": [
    "Performing EDA:"
   ]
  },
  {
   "cell_type": "code",
   "execution_count": 23,
   "metadata": {},
   "outputs": [],
   "source": [
    "# logistic regression model"
   ]
  },
  {
   "cell_type": "code",
   "execution_count": 24,
   "metadata": {},
   "outputs": [],
   "source": [
    "random.seed(1234)\n",
    "\n",
    "data_list = [data_dict[d] for d in data_dict]\n",
    "random.shuffle(data_list)\n",
    "\n",
    "nTrain = int(len(data_list) * 0.8)\n",
    "train = data_list[:nTrain]\n",
    "test = data_list[nTrain:]"
   ]
  },
  {
   "cell_type": "code",
   "execution_count": 25,
   "metadata": {},
   "outputs": [
    {
     "data": {
      "text/plain": [
       "0.20000068931289292"
      ]
     },
     "execution_count": 25,
     "metadata": {},
     "output_type": "execute_result"
    }
   ],
   "source": [
    "len(test) / len(data_list)"
   ]
  },
  {
   "cell_type": "code",
   "execution_count": 26,
   "metadata": {},
   "outputs": [],
   "source": [
    "stop_words = stopwords.words('english')\n",
    "\n",
    "wordCount = defaultdict(int)\n",
    "for d in train:\n",
    "    for w in d['lyrics'].split():\n",
    "        if w not in stop_words:\n",
    "            wordCount[w] += 1\n",
    "\n",
    "wCounts = []\n",
    "for w in wordCount:\n",
    "    wCounts.append((wordCount[w], w))\n",
    "wCounts.sort(reverse=True)"
   ]
  },
  {
   "cell_type": "code",
   "execution_count": 27,
   "metadata": {},
   "outputs": [
    {
     "data": {
      "text/plain": [
       "357120"
      ]
     },
     "execution_count": 27,
     "metadata": {},
     "output_type": "execute_result"
    }
   ],
   "source": [
    "len(wCounts)"
   ]
  },
  {
   "cell_type": "code",
   "execution_count": 28,
   "metadata": {},
   "outputs": [],
   "source": [
    "dict_size = 2000\n",
    "\n",
    "words = [x[1] for x in wCounts[:dict_size]]\n",
    "wordId = dict(zip(words, range(len(words))))\n",
    "wordSet = set(words)\n",
    "\n",
    "def feature(d):\n",
    "    res = [0] * dict_size\n",
    "    for w in d['lyrics'].split():\n",
    "        if w in wordSet:\n",
    "            res[wordId[w]] += 1 \n",
    "            \n",
    "    # calculate tfidf\n",
    "#     tfidf = [0] * dict_size\n",
    "#     for w in d['review_text'].split():\n",
    "#         w = ''.join([c for c in w.lower() if not c in punct])\n",
    "#         if w in wordSet:\n",
    "#             if w == '': continue\n",
    "#             tfidf[wordId[w]] = res[wordId[w]] * math.log2(len(train) / df[w])\n",
    "#     for i in range(len(res)):\n",
    "#         res[i] = res[i] / len(res)\n",
    "    return res + [1]"
   ]
  },
  {
   "cell_type": "code",
   "execution_count": 29,
   "metadata": {},
   "outputs": [],
   "source": [
    "X = [feature(d) for d in data_list]\n",
    "y = [d['genre'] for d in data_list]"
   ]
  },
  {
   "cell_type": "code",
   "execution_count": 30,
   "metadata": {},
   "outputs": [],
   "source": [
    "Xtrain = X[:nTrain]\n",
    "ytrain = y[:nTrain]\n",
    "Xtest = X[nTrain:]\n",
    "ytest = y[nTrain:]"
   ]
  },
  {
   "cell_type": "code",
   "execution_count": 31,
   "metadata": {},
   "outputs": [],
   "source": [
    "# C = [0.001, 0.01, 0.1, 1, 10]\n",
    "# acc_list = []\n",
    "# for c in C:\n",
    "#     print('c: ', c)\n",
    "    \n",
    "#     model = linear_model.LogisticRegression(C=c, max_iter=200)\n",
    "#     model.fit(Xtrain, ytrain)\n",
    "    \n",
    "#     pred = model.predict(Xtest)\n",
    "#     correct = pred == ytest\n",
    "    \n",
    "#     acc_logistic_BoW = sum(correct) / len(correct)\n",
    "#     acc_list.append(acc_logistic_BoW)\n",
    "\n",
    "# print('Accuracy logistic regression: ', acc_list)\n",
    "# print('Best C: ', C[np.argmax(acc_list)]"
   ]
  },
  {
   "cell_type": "code",
   "execution_count": 32,
   "metadata": {},
   "outputs": [],
   "source": [
    "bestC = 0.001"
   ]
  },
  {
   "cell_type": "code",
   "execution_count": 33,
   "metadata": {},
   "outputs": [
    {
     "name": "stdout",
     "output_type": "stream",
     "text": [
      "Accuracy logistic regression:  0.5997173826879664\n"
     ]
    }
   ],
   "source": [
    "model = linear_model.LogisticRegression(C=bestC, max_iter=800)\n",
    "model.fit(Xtrain, ytrain)\n",
    "\n",
    "pred = model.predict(Xtest)\n",
    "correct = pred == ytest\n",
    "\n",
    "acc_logistic_BoW = sum(correct) / len(correct)\n",
    "\n",
    "print('Accuracy logistic regression: ', acc_logistic_BoW)"
   ]
  },
  {
   "cell_type": "code",
   "execution_count": 37,
   "metadata": {},
   "outputs": [],
   "source": [
    "cm = confusion_matrix(ytest, list(pred))"
   ]
  },
  {
   "cell_type": "code",
   "execution_count": 40,
   "metadata": {},
   "outputs": [
    {
     "data": {
      "text/plain": [
       "<sklearn.metrics._plot.confusion_matrix.ConfusionMatrixDisplay at 0x23ae7225f70>"
      ]
     },
     "execution_count": 40,
     "metadata": {},
     "output_type": "execute_result"
    },
    {
     "data": {
      "image/png": "[encoded data removed]",
      "text/plain": [
       "<Figure size 792x792 with 2 Axes>"
      ]
     },
     "metadata": {
      "needs_background": "light"
     },
     "output_type": "display_data"
    }
   ],
   "source": [
    "cm_plot = ConfusionMatrixDisplay(cm, range(10))\n",
    "fig, ax = plt.subplots(figsize=(11,11))\n",
    "cm_plot.plot(ax=ax, values_format='')"
   ]
  },
  {
   "cell_type": "code",
   "execution_count": 44,
   "metadata": {},
   "outputs": [],
   "source": [
    "precision_logistic = [cm[i][i] for i in range(len(cm)-1)] / cm.sum(axis=0)[:-1]\n",
    "avg_precision_logistic = precision_logistic.mean()"
   ]
  },
  {
   "cell_type": "code",
   "execution_count": 45,
   "metadata": {},
   "outputs": [
    {
     "name": "stdout",
     "output_type": "stream",
     "text": [
      "Logistic average precision:  0.5114299438740086\n"
     ]
    }
   ],
   "source": [
    "print('Logistic average precision: ', avg_precision_logistic)"
   ]
  },
  {
   "cell_type": "code",
   "execution_count": null,
   "metadata": {},
   "outputs": [],
   "source": [
    "### with tf-idf"
   ]
  },
  {
   "cell_type": "code",
   "execution_count": 93,
   "metadata": {},
   "outputs": [],
   "source": [
    "dict_size = 1000\n",
    "\n",
    "words = [x[1] for x in wCounts[:dict_size]]\n",
    "wordId = dict(zip(words, range(len(words))))\n",
    "wordSet = set(words)"
   ]
  },
  {
   "cell_type": "code",
   "execution_count": 94,
   "metadata": {},
   "outputs": [],
   "source": [
    "df = defaultdict(int)\n",
    "for d in train:\n",
    "    for w in set(d['lyrics'].split()): # set will reduce this list into unique words only\n",
    "        if w not in stop_words:\n",
    "            df[w] += 1"
   ]
  },
  {
   "cell_type": "code",
   "execution_count": 95,
   "metadata": {},
   "outputs": [],
   "source": [
    "def featureTFIDF(d):\n",
    "    res = [0] * dict_size\n",
    "    for w in d['lyrics'].split():\n",
    "        if w in wordSet:\n",
    "            res[wordId[w]] += 1 \n",
    "\n",
    "    # calculate tfidf\n",
    "    tfidf = [0] * dict_size\n",
    "    for w in d['lyrics'].split():\n",
    "        if w in wordSet:\n",
    "            if w == '': continue\n",
    "            tfidf[wordId[w]] = res[wordId[w]] * math.log2(len(train) / df[w])\n",
    "            \n",
    "    tfidf_array = np.array(tfidf).reshape(1,-1)\n",
    "    \n",
    "    tfidf_array = normalize(tfidf_array, axis=1)[0]\n",
    "    tfidf_list = [x for x in tfidf_array]\n",
    "    return tfidf_list"
   ]
  },
  {
   "cell_type": "code",
   "execution_count": 96,
   "metadata": {},
   "outputs": [],
   "source": [
    "X = [featureTFIDF(d) for d in data_list]\n",
    "y = [d['genre'] for d in data_list]"
   ]
  },
  {
   "cell_type": "code",
   "execution_count": 97,
   "metadata": {},
   "outputs": [],
   "source": [
    "Xtrain = X[:nTrain]\n",
    "ytrain = y[:nTrain]\n",
    "Xtest = X[nTrain:]\n",
    "ytest = y[nTrain:]"
   ]
  },
  {
   "cell_type": "code",
   "execution_count": 98,
   "metadata": {},
   "outputs": [
    {
     "name": "stdout",
     "output_type": "stream",
     "text": [
      "c:  0.001\n",
      "c:  0.01\n",
      "c:  0.1\n",
      "c:  1\n"
     ]
    },
    {
     "name": "stderr",
     "output_type": "stream",
     "text": [
      "C:\\Users\\ltai2\\anaconda3\\lib\\site-packages\\sklearn\\linear_model\\_logistic.py:938: ConvergenceWarning: lbfgs failed to converge (status=1):\n",
      "STOP: TOTAL NO. of ITERATIONS REACHED LIMIT.\n",
      "\n",
      "Increase the number of iterations (max_iter) or scale the data as shown in:\n",
      "    https://scikit-learn.org/stable/modules/preprocessing.html\n",
      "Please also refer to the documentation for alternative solver options:\n",
      "    https://scikit-learn.org/stable/modules/linear_model.html#logistic-regression\n",
      "  n_iter_i = _check_optimize_result(\n"
     ]
    },
    {
     "name": "stdout",
     "output_type": "stream",
     "text": [
      "c:  10\n"
     ]
    },
    {
     "name": "stderr",
     "output_type": "stream",
     "text": [
      "C:\\Users\\ltai2\\anaconda3\\lib\\site-packages\\sklearn\\linear_model\\_logistic.py:938: ConvergenceWarning: lbfgs failed to converge (status=1):\n",
      "STOP: TOTAL NO. of ITERATIONS REACHED LIMIT.\n",
      "\n",
      "Increase the number of iterations (max_iter) or scale the data as shown in:\n",
      "    https://scikit-learn.org/stable/modules/preprocessing.html\n",
      "Please also refer to the documentation for alternative solver options:\n",
      "    https://scikit-learn.org/stable/modules/linear_model.html#logistic-regression\n",
      "  n_iter_i = _check_optimize_result(\n"
     ]
    },
    {
     "name": "stdout",
     "output_type": "stream",
     "text": [
      "Accuracy logistic regression:  [0.5426941701563012, 0.569232625066777, 0.5899981043960778, 0.594289062365369, 0.5954781230074618]\n",
      "Best C:  10\n"
     ]
    }
   ],
   "source": [
    "# C = [0.001, 0.01, 0.1, 1, 10]\n",
    "# acc_list = []\n",
    "# for c in C:\n",
    "#     print('c: ', c)\n",
    "    \n",
    "#     model = linear_model.LogisticRegression(C=c, max_iter=200)\n",
    "#     model.fit(Xtrain, ytrain)\n",
    "    \n",
    "#     pred = model.predict(Xtest)\n",
    "#     correct = pred == ytest\n",
    "    \n",
    "#     acc_logistic_BoW = sum(correct) / len(correct)\n",
    "#     acc_list.append(acc_logistic_BoW)\n",
    "\n",
    "# print('Accuracy logistic regression: ', acc_list)\n",
    "# print('Best C: ', C[np.argmax(acc_list)])"
   ]
  },
  {
   "cell_type": "code",
   "execution_count": 87,
   "metadata": {},
   "outputs": [
    {
     "data": {
      "text/plain": [
       "array([0.        , 0.9701425 , 0.24253563, 0.        ])"
      ]
     },
     "execution_count": 87,
     "metadata": {},
     "output_type": "execute_result"
    }
   ],
   "source": [
    "normalize(np.array([0,4,1,0]).reshape(1,-1), axis=1)[0]"
   ]
  },
  {
   "cell_type": "code",
   "execution_count": 100,
   "metadata": {},
   "outputs": [
    {
     "name": "stdout",
     "output_type": "stream",
     "text": [
      "Highest accuracy logistic regression:  0.5954781230074618\n"
     ]
    }
   ],
   "source": [
    "print('Highest accuracy logistic regression: ', max(acc_list))"
   ]
  },
  {
   "cell_type": "code",
   "execution_count": 101,
   "metadata": {},
   "outputs": [],
   "source": [
    "bestC = 10"
   ]
  },
  {
   "cell_type": "code",
   "execution_count": 102,
   "metadata": {},
   "outputs": [
    {
     "name": "stderr",
     "output_type": "stream",
     "text": [
      "C:\\Users\\ltai2\\anaconda3\\lib\\site-packages\\sklearn\\linear_model\\_logistic.py:938: ConvergenceWarning: lbfgs failed to converge (status=1):\n",
      "STOP: TOTAL NO. of ITERATIONS REACHED LIMIT.\n",
      "\n",
      "Increase the number of iterations (max_iter) or scale the data as shown in:\n",
      "    https://scikit-learn.org/stable/modules/preprocessing.html\n",
      "Please also refer to the documentation for alternative solver options:\n",
      "    https://scikit-learn.org/stable/modules/linear_model.html#logistic-regression\n",
      "  n_iter_i = _check_optimize_result(\n"
     ]
    },
    {
     "name": "stdout",
     "output_type": "stream",
     "text": [
      "Accuracy logistic regression:  0.5953919591928174\n"
     ]
    }
   ],
   "source": [
    "model = linear_model.LogisticRegression(C=bestC, max_iter=800)\n",
    "model.fit(Xtrain, ytrain)\n",
    "\n",
    "pred = model.predict(Xtest)\n",
    "correct = pred == ytest\n",
    "\n",
    "acc_logistic_tfidf = sum(correct) / len(correct)\n",
    "\n",
    "print('Accuracy logistic regression: ', acc_logistic_tfidf)"
   ]
  },
  {
   "cell_type": "code",
   "execution_count": 103,
   "metadata": {},
   "outputs": [],
   "source": [
    "cm = confusion_matrix(ytest, list(pred))"
   ]
  },
  {
   "cell_type": "code",
   "execution_count": 104,
   "metadata": {},
   "outputs": [
    {
     "data": {
      "text/plain": [
       "<sklearn.metrics._plot.confusion_matrix.ConfusionMatrixDisplay at 0x23ae0440700>"
      ]
     },
     "execution_count": 104,
     "metadata": {},
     "output_type": "execute_result"
    },
    {
     "data": {
      "image/png": "[encoded data removed]",
      "text/plain": [
       "<Figure size 792x792 with 2 Axes>"
      ]
     },
     "metadata": {
      "needs_background": "light"
     },
     "output_type": "display_data"
    }
   ],
   "source": [
    "cm_plot = ConfusionMatrixDisplay(cm, range(10))\n",
    "fig, ax = plt.subplots(figsize=(11,11))\n",
    "cm_plot.plot(ax=ax, values_format='')"
   ]
  },
  {
   "cell_type": "code",
   "execution_count": 106,
   "metadata": {},
   "outputs": [],
   "source": [
    "precision_logistic_tfidf = [cm[i][i] for i in range(len(cm))] / cm.sum(axis=0)\n",
    "avg_precision_logistic_tfidf = precision_logistic_tfidf.mean()"
   ]
  },
  {
   "cell_type": "code",
   "execution_count": 108,
   "metadata": {},
   "outputs": [
    {
     "name": "stdout",
     "output_type": "stream",
     "text": [
      "Logistic average precision with tfidf:  0.336282999360678\n"
     ]
    }
   ],
   "source": [
    "print('Logistic average precision with tfidf: ', avg_precision_logistic_tfidf)"
   ]
  },
  {
   "cell_type": "code",
   "execution_count": 110,
   "metadata": {},
   "outputs": [
    {
     "data": {
      "text/plain": [
       "357120"
      ]
     },
     "execution_count": 110,
     "metadata": {},
     "output_type": "execute_result"
    }
   ],
   "source": [
    "len(wCounts)"
   ]
  },
  {
   "cell_type": "code",
   "execution_count": null,
   "metadata": {},
   "outputs": [],
   "source": []
  }
 ],
 "metadata": {
  "kernelspec": {
   "display_name": "Python 3",
   "language": "python",
   "name": "python3"
  },
  "language_info": {
   "codemirror_mode": {
    "name": "ipython",
    "version": 3
   },
   "file_extension": ".py",
   "mimetype": "text/x-python",
   "name": "python",
   "nbconvert_exporter": "python",
   "pygments_lexer": "ipython3",
   "version": "3.8.5"
  }
 },
 "nbformat": 4,
 "nbformat_minor": 4
}
