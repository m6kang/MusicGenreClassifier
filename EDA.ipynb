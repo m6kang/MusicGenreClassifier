{
 "cells": [
  {
   "cell_type": "code",
   "execution_count": 1,
   "metadata": {},
   "outputs": [
    {
     "name": "stderr",
     "output_type": "stream",
     "text": [
      "[nltk_data] Downloading package stopwords to\n",
      "[nltk_data]     C:\\Users\\ltai2\\AppData\\Roaming\\nltk_data...\n",
      "[nltk_data]   Package stopwords is already up-to-date!\n"
     ]
    },
    {
     "data": {
      "text/plain": [
       "True"
      ]
     },
     "execution_count": 1,
     "metadata": {},
     "output_type": "execute_result"
    }
   ],
   "source": [
    "import pandas as pd\n",
    "import string\n",
    "from collections import defaultdict\n",
    "import matplotlib.pyplot as plt\n",
    "import nltk\n",
    "import random\n",
    "import numpy\n",
    "import sklearn\n",
    "from sklearn.metrics import confusion_matrix\n",
    "from sklearn.metrics import ConfusionMatrixDisplay\n",
    "from nltk.corpus import stopwords\n",
    "nltk.download('stopwords')"
   ]
  },
  {
   "cell_type": "code",
   "execution_count": 2,
   "metadata": {},
   "outputs": [],
   "source": [
    "data = pd.read_csv('train.csv')"
   ]
  },
  {
   "cell_type": "code",
   "execution_count": 3,
   "metadata": {},
   "outputs": [
    {
     "data": {
      "text/plain": [
       "290183"
      ]
     },
     "execution_count": 3,
     "metadata": {},
     "output_type": "execute_result"
    }
   ],
   "source": [
    "len(data)"
   ]
  },
  {
   "cell_type": "code",
   "execution_count": 4,
   "metadata": {},
   "outputs": [],
   "source": [
    "# data = data[data['Language'] == 'en']"
   ]
  },
  {
   "cell_type": "code",
   "execution_count": 5,
   "metadata": {},
   "outputs": [
    {
     "data": {
      "text/plain": [
       "290183"
      ]
     },
     "execution_count": 5,
     "metadata": {},
     "output_type": "execute_result"
    }
   ],
   "source": [
    "len(data)"
   ]
  },
  {
   "cell_type": "code",
   "execution_count": 6,
   "metadata": {},
   "outputs": [
    {
     "data": {
      "text/html": [
       "<div>\n",
       "<style scoped>\n",
       "    .dataframe tbody tr th:only-of-type {\n",
       "        vertical-align: middle;\n",
       "    }\n",
       "\n",
       "    .dataframe tbody tr th {\n",
       "        vertical-align: top;\n",
       "    }\n",
       "\n",
       "    .dataframe thead th {\n",
       "        text-align: right;\n",
       "    }\n",
       "</style>\n",
       "<table border=\"1\" class=\"dataframe\">\n",
       "  <thead>\n",
       "    <tr style=\"text-align: right;\">\n",
       "      <th></th>\n",
       "      <th>Artist</th>\n",
       "      <th>Song</th>\n",
       "      <th>Genre</th>\n",
       "      <th>Language</th>\n",
       "      <th>Lyrics</th>\n",
       "    </tr>\n",
       "  </thead>\n",
       "  <tbody>\n",
       "    <tr>\n",
       "      <th>0</th>\n",
       "      <td>12 stones</td>\n",
       "      <td>world so cold</td>\n",
       "      <td>Rock</td>\n",
       "      <td>en</td>\n",
       "      <td>It starts with pain, followed by hate\\nFueled ...</td>\n",
       "    </tr>\n",
       "    <tr>\n",
       "      <th>1</th>\n",
       "      <td>12 stones</td>\n",
       "      <td>broken</td>\n",
       "      <td>Rock</td>\n",
       "      <td>en</td>\n",
       "      <td>Freedom!\\nAlone again again alone\\nPatiently w...</td>\n",
       "    </tr>\n",
       "    <tr>\n",
       "      <th>2</th>\n",
       "      <td>12 stones</td>\n",
       "      <td>3 leaf loser</td>\n",
       "      <td>Rock</td>\n",
       "      <td>en</td>\n",
       "      <td>Biting the hand that feeds you, lying to the v...</td>\n",
       "    </tr>\n",
       "    <tr>\n",
       "      <th>3</th>\n",
       "      <td>12 stones</td>\n",
       "      <td>anthem for the underdog</td>\n",
       "      <td>Rock</td>\n",
       "      <td>en</td>\n",
       "      <td>You say you know just who I am\\nBut you can't ...</td>\n",
       "    </tr>\n",
       "    <tr>\n",
       "      <th>4</th>\n",
       "      <td>12 stones</td>\n",
       "      <td>adrenaline</td>\n",
       "      <td>Rock</td>\n",
       "      <td>en</td>\n",
       "      <td>My heart is beating faster can't control these...</td>\n",
       "    </tr>\n",
       "  </tbody>\n",
       "</table>\n",
       "</div>"
      ],
      "text/plain": [
       "      Artist                     Song Genre Language  \\\n",
       "0  12 stones            world so cold  Rock       en   \n",
       "1  12 stones                   broken  Rock       en   \n",
       "2  12 stones             3 leaf loser  Rock       en   \n",
       "3  12 stones  anthem for the underdog  Rock       en   \n",
       "4  12 stones               adrenaline  Rock       en   \n",
       "\n",
       "                                              Lyrics  \n",
       "0  It starts with pain, followed by hate\\nFueled ...  \n",
       "1  Freedom!\\nAlone again again alone\\nPatiently w...  \n",
       "2  Biting the hand that feeds you, lying to the v...  \n",
       "3  You say you know just who I am\\nBut you can't ...  \n",
       "4  My heart is beating faster can't control these...  "
      ]
     },
     "execution_count": 6,
     "metadata": {},
     "output_type": "execute_result"
    }
   ],
   "source": [
    "data.head()"
   ]
  },
  {
   "cell_type": "code",
   "execution_count": 7,
   "metadata": {},
   "outputs": [],
   "source": [
    "data = data[['Genre', 'Language', 'Lyrics']]"
   ]
  },
  {
   "cell_type": "code",
   "execution_count": 8,
   "metadata": {},
   "outputs": [],
   "source": [
    "data.rename(columns={'Genre':'genre', 'Language':'lang', 'Lyrics':'lyrics'}, inplace=True)"
   ]
  },
  {
   "cell_type": "code",
   "execution_count": 9,
   "metadata": {},
   "outputs": [
    {
     "data": {
      "text/html": [
       "<div>\n",
       "<style scoped>\n",
       "    .dataframe tbody tr th:only-of-type {\n",
       "        vertical-align: middle;\n",
       "    }\n",
       "\n",
       "    .dataframe tbody tr th {\n",
       "        vertical-align: top;\n",
       "    }\n",
       "\n",
       "    .dataframe thead th {\n",
       "        text-align: right;\n",
       "    }\n",
       "</style>\n",
       "<table border=\"1\" class=\"dataframe\">\n",
       "  <thead>\n",
       "    <tr style=\"text-align: right;\">\n",
       "      <th></th>\n",
       "      <th>genre</th>\n",
       "      <th>lang</th>\n",
       "      <th>lyrics</th>\n",
       "    </tr>\n",
       "  </thead>\n",
       "  <tbody>\n",
       "    <tr>\n",
       "      <th>0</th>\n",
       "      <td>Rock</td>\n",
       "      <td>en</td>\n",
       "      <td>It starts with pain, followed by hate\\nFueled ...</td>\n",
       "    </tr>\n",
       "    <tr>\n",
       "      <th>1</th>\n",
       "      <td>Rock</td>\n",
       "      <td>en</td>\n",
       "      <td>Freedom!\\nAlone again again alone\\nPatiently w...</td>\n",
       "    </tr>\n",
       "    <tr>\n",
       "      <th>2</th>\n",
       "      <td>Rock</td>\n",
       "      <td>en</td>\n",
       "      <td>Biting the hand that feeds you, lying to the v...</td>\n",
       "    </tr>\n",
       "    <tr>\n",
       "      <th>3</th>\n",
       "      <td>Rock</td>\n",
       "      <td>en</td>\n",
       "      <td>You say you know just who I am\\nBut you can't ...</td>\n",
       "    </tr>\n",
       "    <tr>\n",
       "      <th>4</th>\n",
       "      <td>Rock</td>\n",
       "      <td>en</td>\n",
       "      <td>My heart is beating faster can't control these...</td>\n",
       "    </tr>\n",
       "    <tr>\n",
       "      <th>...</th>\n",
       "      <td>...</td>\n",
       "      <td>...</td>\n",
       "      <td>...</td>\n",
       "    </tr>\n",
       "    <tr>\n",
       "      <th>290178</th>\n",
       "      <td>R&amp;B</td>\n",
       "      <td>en</td>\n",
       "      <td>I'm the best friend he's got I'd give him the ...</td>\n",
       "    </tr>\n",
       "    <tr>\n",
       "      <th>290179</th>\n",
       "      <td>Pop</td>\n",
       "      <td>en</td>\n",
       "      <td>Bad Boys Blue \"I Totally Miss You\" I did you w...</td>\n",
       "    </tr>\n",
       "    <tr>\n",
       "      <th>290180</th>\n",
       "      <td>Pop</td>\n",
       "      <td>en</td>\n",
       "      <td>Forgive me for the things That I never said to...</td>\n",
       "    </tr>\n",
       "    <tr>\n",
       "      <th>290181</th>\n",
       "      <td>Indie</td>\n",
       "      <td>en</td>\n",
       "      <td>The day they found a cure for AIDS The day the...</td>\n",
       "    </tr>\n",
       "    <tr>\n",
       "      <th>290182</th>\n",
       "      <td>Pop</td>\n",
       "      <td>en</td>\n",
       "      <td>Fourth of July has come, it's custom that we g...</td>\n",
       "    </tr>\n",
       "  </tbody>\n",
       "</table>\n",
       "<p>290183 rows × 3 columns</p>\n",
       "</div>"
      ],
      "text/plain": [
       "        genre lang                                             lyrics\n",
       "0        Rock   en  It starts with pain, followed by hate\\nFueled ...\n",
       "1        Rock   en  Freedom!\\nAlone again again alone\\nPatiently w...\n",
       "2        Rock   en  Biting the hand that feeds you, lying to the v...\n",
       "3        Rock   en  You say you know just who I am\\nBut you can't ...\n",
       "4        Rock   en  My heart is beating faster can't control these...\n",
       "...       ...  ...                                                ...\n",
       "290178    R&B   en  I'm the best friend he's got I'd give him the ...\n",
       "290179    Pop   en  Bad Boys Blue \"I Totally Miss You\" I did you w...\n",
       "290180    Pop   en  Forgive me for the things That I never said to...\n",
       "290181  Indie   en  The day they found a cure for AIDS The day the...\n",
       "290182    Pop   en  Fourth of July has come, it's custom that we g...\n",
       "\n",
       "[290183 rows x 3 columns]"
      ]
     },
     "execution_count": 9,
     "metadata": {},
     "output_type": "execute_result"
    }
   ],
   "source": [
    "data"
   ]
  },
  {
   "cell_type": "code",
   "execution_count": 10,
   "metadata": {},
   "outputs": [
    {
     "data": {
      "text/plain": [
       "array(['Rock', 'Metal', 'Pop', 'Indie', 'R&B', 'Folk', 'Electronic',\n",
       "       'Jazz', 'Hip-Hop', 'Country'], dtype=object)"
      ]
     },
     "execution_count": 10,
     "metadata": {},
     "output_type": "execute_result"
    }
   ],
   "source": [
    "data['genre'].unique()"
   ]
  },
  {
   "cell_type": "code",
   "execution_count": 11,
   "metadata": {},
   "outputs": [],
   "source": [
    "# Rock = 1, Metal = 2, Pop = 3, Indie = 4, Folk = 5, Electronic = 6, R&B = 7, Jazz = 8, Hip-hop = 9, Country = 10\n",
    "data['genre'][data['genre'] == 'Rock'] = 1\n",
    "data['genre'][data['genre'] == 'Metal'] = 2\n",
    "data['genre'][data['genre'] == 'Pop'] = 3\n",
    "data['genre'][data['genre'] == 'Indie'] = 4\n",
    "data['genre'][data['genre'] == 'Folk'] = 5\n",
    "data['genre'][data['genre'] == 'Electronic'] = 6\n",
    "data['genre'][data['genre'] == 'R&B'] = 7\n",
    "data['genre'][data['genre'] == 'Jazz'] = 8\n",
    "data['genre'][data['genre'] == 'Hip-Hop'] = 9\n",
    "data['genre'][data['genre'] == 'Country'] = 10"
   ]
  },
  {
   "cell_type": "code",
   "execution_count": 12,
   "metadata": {},
   "outputs": [
    {
     "data": {
      "text/plain": [
       "0         1\n",
       "1         1\n",
       "2         1\n",
       "3         1\n",
       "4         1\n",
       "         ..\n",
       "290178    7\n",
       "290179    3\n",
       "290180    3\n",
       "290181    4\n",
       "290182    3\n",
       "Name: genre, Length: 290183, dtype: object"
      ]
     },
     "execution_count": 12,
     "metadata": {},
     "output_type": "execute_result"
    }
   ],
   "source": [
    "data['genre']"
   ]
  },
  {
   "cell_type": "code",
   "execution_count": 13,
   "metadata": {},
   "outputs": [
    {
     "data": {
      "text/html": [
       "<div>\n",
       "<style scoped>\n",
       "    .dataframe tbody tr th:only-of-type {\n",
       "        vertical-align: middle;\n",
       "    }\n",
       "\n",
       "    .dataframe tbody tr th {\n",
       "        vertical-align: top;\n",
       "    }\n",
       "\n",
       "    .dataframe thead th {\n",
       "        text-align: right;\n",
       "    }\n",
       "</style>\n",
       "<table border=\"1\" class=\"dataframe\">\n",
       "  <thead>\n",
       "    <tr style=\"text-align: right;\">\n",
       "      <th></th>\n",
       "      <th>genre</th>\n",
       "      <th>lang</th>\n",
       "      <th>lyrics</th>\n",
       "    </tr>\n",
       "  </thead>\n",
       "  <tbody>\n",
       "    <tr>\n",
       "      <th>0</th>\n",
       "      <td>1</td>\n",
       "      <td>en</td>\n",
       "      <td>It starts with pain, followed by hate\\nFueled ...</td>\n",
       "    </tr>\n",
       "    <tr>\n",
       "      <th>1</th>\n",
       "      <td>1</td>\n",
       "      <td>en</td>\n",
       "      <td>Freedom!\\nAlone again again alone\\nPatiently w...</td>\n",
       "    </tr>\n",
       "    <tr>\n",
       "      <th>2</th>\n",
       "      <td>1</td>\n",
       "      <td>en</td>\n",
       "      <td>Biting the hand that feeds you, lying to the v...</td>\n",
       "    </tr>\n",
       "    <tr>\n",
       "      <th>3</th>\n",
       "      <td>1</td>\n",
       "      <td>en</td>\n",
       "      <td>You say you know just who I am\\nBut you can't ...</td>\n",
       "    </tr>\n",
       "    <tr>\n",
       "      <th>4</th>\n",
       "      <td>1</td>\n",
       "      <td>en</td>\n",
       "      <td>My heart is beating faster can't control these...</td>\n",
       "    </tr>\n",
       "    <tr>\n",
       "      <th>...</th>\n",
       "      <td>...</td>\n",
       "      <td>...</td>\n",
       "      <td>...</td>\n",
       "    </tr>\n",
       "    <tr>\n",
       "      <th>290178</th>\n",
       "      <td>7</td>\n",
       "      <td>en</td>\n",
       "      <td>I'm the best friend he's got I'd give him the ...</td>\n",
       "    </tr>\n",
       "    <tr>\n",
       "      <th>290179</th>\n",
       "      <td>3</td>\n",
       "      <td>en</td>\n",
       "      <td>Bad Boys Blue \"I Totally Miss You\" I did you w...</td>\n",
       "    </tr>\n",
       "    <tr>\n",
       "      <th>290180</th>\n",
       "      <td>3</td>\n",
       "      <td>en</td>\n",
       "      <td>Forgive me for the things That I never said to...</td>\n",
       "    </tr>\n",
       "    <tr>\n",
       "      <th>290181</th>\n",
       "      <td>4</td>\n",
       "      <td>en</td>\n",
       "      <td>The day they found a cure for AIDS The day the...</td>\n",
       "    </tr>\n",
       "    <tr>\n",
       "      <th>290182</th>\n",
       "      <td>3</td>\n",
       "      <td>en</td>\n",
       "      <td>Fourth of July has come, it's custom that we g...</td>\n",
       "    </tr>\n",
       "  </tbody>\n",
       "</table>\n",
       "<p>290183 rows × 3 columns</p>\n",
       "</div>"
      ],
      "text/plain": [
       "       genre lang                                             lyrics\n",
       "0          1   en  It starts with pain, followed by hate\\nFueled ...\n",
       "1          1   en  Freedom!\\nAlone again again alone\\nPatiently w...\n",
       "2          1   en  Biting the hand that feeds you, lying to the v...\n",
       "3          1   en  You say you know just who I am\\nBut you can't ...\n",
       "4          1   en  My heart is beating faster can't control these...\n",
       "...      ...  ...                                                ...\n",
       "290178     7   en  I'm the best friend he's got I'd give him the ...\n",
       "290179     3   en  Bad Boys Blue \"I Totally Miss You\" I did you w...\n",
       "290180     3   en  Forgive me for the things That I never said to...\n",
       "290181     4   en  The day they found a cure for AIDS The day the...\n",
       "290182     3   en  Fourth of July has come, it's custom that we g...\n",
       "\n",
       "[290183 rows x 3 columns]"
      ]
     },
     "execution_count": 13,
     "metadata": {},
     "output_type": "execute_result"
    }
   ],
   "source": [
    "data"
   ]
  },
  {
   "cell_type": "code",
   "execution_count": 14,
   "metadata": {},
   "outputs": [],
   "source": [
    "data.dropna(axis=0, inplace=True)"
   ]
  },
  {
   "cell_type": "code",
   "execution_count": 15,
   "metadata": {},
   "outputs": [
    {
     "data": {
      "text/plain": [
       "0"
      ]
     },
     "execution_count": 15,
     "metadata": {},
     "output_type": "execute_result"
    }
   ],
   "source": [
    "data['lyrics'].isna().sum()"
   ]
  },
  {
   "cell_type": "code",
   "execution_count": 16,
   "metadata": {},
   "outputs": [],
   "source": [
    "data = data.reset_index()"
   ]
  },
  {
   "cell_type": "code",
   "execution_count": 17,
   "metadata": {},
   "outputs": [
    {
     "data": {
      "text/html": [
       "<div>\n",
       "<style scoped>\n",
       "    .dataframe tbody tr th:only-of-type {\n",
       "        vertical-align: middle;\n",
       "    }\n",
       "\n",
       "    .dataframe tbody tr th {\n",
       "        vertical-align: top;\n",
       "    }\n",
       "\n",
       "    .dataframe thead th {\n",
       "        text-align: right;\n",
       "    }\n",
       "</style>\n",
       "<table border=\"1\" class=\"dataframe\">\n",
       "  <thead>\n",
       "    <tr style=\"text-align: right;\">\n",
       "      <th></th>\n",
       "      <th>index</th>\n",
       "      <th>genre</th>\n",
       "      <th>lang</th>\n",
       "      <th>lyrics</th>\n",
       "    </tr>\n",
       "  </thead>\n",
       "  <tbody>\n",
       "    <tr>\n",
       "      <th>0</th>\n",
       "      <td>0</td>\n",
       "      <td>1</td>\n",
       "      <td>en</td>\n",
       "      <td>It starts with pain, followed by hate\\nFueled ...</td>\n",
       "    </tr>\n",
       "    <tr>\n",
       "      <th>1</th>\n",
       "      <td>1</td>\n",
       "      <td>1</td>\n",
       "      <td>en</td>\n",
       "      <td>Freedom!\\nAlone again again alone\\nPatiently w...</td>\n",
       "    </tr>\n",
       "    <tr>\n",
       "      <th>2</th>\n",
       "      <td>2</td>\n",
       "      <td>1</td>\n",
       "      <td>en</td>\n",
       "      <td>Biting the hand that feeds you, lying to the v...</td>\n",
       "    </tr>\n",
       "    <tr>\n",
       "      <th>3</th>\n",
       "      <td>3</td>\n",
       "      <td>1</td>\n",
       "      <td>en</td>\n",
       "      <td>You say you know just who I am\\nBut you can't ...</td>\n",
       "    </tr>\n",
       "    <tr>\n",
       "      <th>4</th>\n",
       "      <td>4</td>\n",
       "      <td>1</td>\n",
       "      <td>en</td>\n",
       "      <td>My heart is beating faster can't control these...</td>\n",
       "    </tr>\n",
       "    <tr>\n",
       "      <th>...</th>\n",
       "      <td>...</td>\n",
       "      <td>...</td>\n",
       "      <td>...</td>\n",
       "      <td>...</td>\n",
       "    </tr>\n",
       "    <tr>\n",
       "      <th>290139</th>\n",
       "      <td>290178</td>\n",
       "      <td>7</td>\n",
       "      <td>en</td>\n",
       "      <td>I'm the best friend he's got I'd give him the ...</td>\n",
       "    </tr>\n",
       "    <tr>\n",
       "      <th>290140</th>\n",
       "      <td>290179</td>\n",
       "      <td>3</td>\n",
       "      <td>en</td>\n",
       "      <td>Bad Boys Blue \"I Totally Miss You\" I did you w...</td>\n",
       "    </tr>\n",
       "    <tr>\n",
       "      <th>290141</th>\n",
       "      <td>290180</td>\n",
       "      <td>3</td>\n",
       "      <td>en</td>\n",
       "      <td>Forgive me for the things That I never said to...</td>\n",
       "    </tr>\n",
       "    <tr>\n",
       "      <th>290142</th>\n",
       "      <td>290181</td>\n",
       "      <td>4</td>\n",
       "      <td>en</td>\n",
       "      <td>The day they found a cure for AIDS The day the...</td>\n",
       "    </tr>\n",
       "    <tr>\n",
       "      <th>290143</th>\n",
       "      <td>290182</td>\n",
       "      <td>3</td>\n",
       "      <td>en</td>\n",
       "      <td>Fourth of July has come, it's custom that we g...</td>\n",
       "    </tr>\n",
       "  </tbody>\n",
       "</table>\n",
       "<p>290144 rows × 4 columns</p>\n",
       "</div>"
      ],
      "text/plain": [
       "         index genre lang                                             lyrics\n",
       "0            0     1   en  It starts with pain, followed by hate\\nFueled ...\n",
       "1            1     1   en  Freedom!\\nAlone again again alone\\nPatiently w...\n",
       "2            2     1   en  Biting the hand that feeds you, lying to the v...\n",
       "3            3     1   en  You say you know just who I am\\nBut you can't ...\n",
       "4            4     1   en  My heart is beating faster can't control these...\n",
       "...        ...   ...  ...                                                ...\n",
       "290139  290178     7   en  I'm the best friend he's got I'd give him the ...\n",
       "290140  290179     3   en  Bad Boys Blue \"I Totally Miss You\" I did you w...\n",
       "290141  290180     3   en  Forgive me for the things That I never said to...\n",
       "290142  290181     4   en  The day they found a cure for AIDS The day the...\n",
       "290143  290182     3   en  Fourth of July has come, it's custom that we g...\n",
       "\n",
       "[290144 rows x 4 columns]"
      ]
     },
     "execution_count": 17,
     "metadata": {},
     "output_type": "execute_result"
    }
   ],
   "source": [
    "data"
   ]
  },
  {
   "cell_type": "code",
   "execution_count": 18,
   "metadata": {},
   "outputs": [],
   "source": [
    "data_dict = data.set_index('index').T.to_dict()"
   ]
  },
  {
   "cell_type": "code",
   "execution_count": 19,
   "metadata": {},
   "outputs": [
    {
     "data": {
      "text/plain": [
       "{'genre': 1,\n",
       " 'lang': 'en',\n",
       " 'lyrics': \"Freedom!\\nAlone again again alone\\nPatiently waiting by the phone\\nHoping that you will call me home\\nThe pain inside my love denied\\nHopes and dreams swallowed by pride\\nEverything I need it lies in you\\n'Cause I'm broken\\nI know I need you now\\n'Cause deep inside I'm broken\\nYou see the way I live\\nI know I know your heart is broken\\nWhen I turn away\\nI need to be broken\\nTake the pain away\\nI question why you chose to die\\nWhen you knew your truth I would deny\\nYou look at me\\nThe tears begin to fall\\nAnd all in all faith is blind\\nBut I fail time after time\\nDaily in my sin I take your life\\n'Cause I'm broken\\nI know I need you now\\n'Cause deep inside I'm broken\\nYou see the way I live\\nI know I know your heart is broken\\nWhen I turn away\\nI need to be broken\\nTake the pain away\\nAll the hate deep inside\\nSlowly covering my eyes\\nAll these things I hide\\nAway from you again\\nAll this fear holding me\\nMy heart is cold and I believe\\nNothing's gonna change\\nUntil I'm broken\\nThis time\\nLet go!\\n'Cause I'm broken\\nI know I need you now\\n'Cause deep inside I'm broken\\nYou see the way I live\\nI know I know your heart is broken\\nWhen I turn away\\nI need to be broken\\nTake the pain away\\nBroken\\nBroken\\nBroken\\nBroken\"}"
      ]
     },
     "execution_count": 19,
     "metadata": {},
     "output_type": "execute_result"
    }
   ],
   "source": [
    "data_dict[1]"
   ]
  },
  {
   "cell_type": "code",
   "execution_count": 20,
   "metadata": {},
   "outputs": [],
   "source": [
    "punct = set(string.punctuation)\n",
    "def cleanLyrics(data):\n",
    "    for d in data:           \n",
    "        data[d]['lyrics'] = data[d]['lyrics'].replace('\\n', ' ').lower()\n",
    "        non_punct = []\n",
    "        for w in data[d]['lyrics'].split():\n",
    "            w = ''.join([c for c in w.lower() if not c in punct])\n",
    "            non_punct.append(w)\n",
    "        delim = \" \"\n",
    "        data[d]['lyrics'] = delim.join(non_punct)"
   ]
  },
  {
   "cell_type": "code",
   "execution_count": 21,
   "metadata": {},
   "outputs": [],
   "source": [
    "cleanLyrics(data_dict)"
   ]
  },
  {
   "cell_type": "code",
   "execution_count": 22,
   "metadata": {},
   "outputs": [
    {
     "data": {
      "text/plain": [
       "{'genre': 1,\n",
       " 'lang': 'en',\n",
       " 'lyrics': 'freedom alone again again alone patiently waiting by the phone hoping that you will call me home the pain inside my love denied hopes and dreams swallowed by pride everything i need it lies in you cause im broken i know i need you now cause deep inside im broken you see the way i live i know i know your heart is broken when i turn away i need to be broken take the pain away i question why you chose to die when you knew your truth i would deny you look at me the tears begin to fall and all in all faith is blind but i fail time after time daily in my sin i take your life cause im broken i know i need you now cause deep inside im broken you see the way i live i know i know your heart is broken when i turn away i need to be broken take the pain away all the hate deep inside slowly covering my eyes all these things i hide away from you again all this fear holding me my heart is cold and i believe nothings gonna change until im broken this time let go cause im broken i know i need you now cause deep inside im broken you see the way i live i know i know your heart is broken when i turn away i need to be broken take the pain away broken broken broken broken'}"
      ]
     },
     "execution_count": 22,
     "metadata": {},
     "output_type": "execute_result"
    }
   ],
   "source": [
    "data_dict[1]"
   ]
  },
  {
   "cell_type": "markdown",
   "metadata": {},
   "source": [
    "Performing EDA:"
   ]
  },
  {
   "cell_type": "code",
   "execution_count": 23,
   "metadata": {},
   "outputs": [],
   "source": [
    "totalGenreCounts = defaultdict(int)\n",
    "data_dict[1002]['genre']\n",
    "for d in data_dict:\n",
    "    songGenre = data_dict[d]['genre']\n",
    "    totalGenreCounts[songGenre] += 1"
   ]
  },
  {
   "cell_type": "code",
   "execution_count": 24,
   "metadata": {},
   "outputs": [
    {
     "data": {
      "text/plain": [
       "defaultdict(int,\n",
       "            {1: 121391,\n",
       "             2: 20286,\n",
       "             3: 108693,\n",
       "             4: 8449,\n",
       "             7: 2793,\n",
       "             5: 8644,\n",
       "             6: 2213,\n",
       "             8: 13545,\n",
       "             9: 2240,\n",
       "             10: 1890})"
      ]
     },
     "execution_count": 24,
     "metadata": {},
     "output_type": "execute_result"
    }
   ],
   "source": [
    "totalGenreCounts"
   ]
  },
  {
   "cell_type": "code",
   "execution_count": 25,
   "metadata": {},
   "outputs": [
    {
     "data": {
      "image/png": "[encoded data removed]",
      "text/plain": [
       "<Figure size 432x288 with 1 Axes>"
      ]
     },
     "metadata": {
      "needs_background": "light"
     },
     "output_type": "display_data"
    }
   ],
   "source": [
    "genres = list(totalGenreCounts.keys())\n",
    "counts = list(totalGenreCounts.values())\n",
    "plt.bar(range(len(totalGenreCounts)), counts, tick_label=genres)\n",
    "plt.show()"
   ]
  },
  {
   "cell_type": "markdown",
   "metadata": {},
   "source": [
    "From the above plot, we see that Rock and Pop make up most of the data, with the rest of the genres being pretty evenly distributed"
   ]
  },
  {
   "cell_type": "code",
   "execution_count": 26,
   "metadata": {},
   "outputs": [],
   "source": [
    "word_counts = defaultdict(int)\n",
    "stop_words = stopwords.words('english')\n",
    "for d in data_dict:\n",
    "    r = ''.join([c for c in data_dict[d]['lyrics'].lower() if not c in punct])\n",
    "    words = r.split()\n",
    "    for word in words:\n",
    "        if not word in stop_words:\n",
    "            word_counts[word] += 1"
   ]
  },
  {
   "cell_type": "code",
   "execution_count": 27,
   "metadata": {},
   "outputs": [],
   "source": [
    "allCounts = [(word_counts[w], w) for w in word_counts]\n",
    "allCounts.sort(reverse=True)"
   ]
  },
  {
   "cell_type": "code",
   "execution_count": 28,
   "metadata": {},
   "outputs": [
    {
     "data": {
      "text/plain": [
       "[(575383, 'im'),\n",
       " (403933, 'dont'),\n",
       " (402142, 'love'),\n",
       " (379047, 'know'),\n",
       " (364821, 'like'),\n",
       " (293091, 'oh'),\n",
       " (271621, 'got'),\n",
       " (257421, 'get'),\n",
       " (226989, 'go'),\n",
       " (220155, 'que')]"
      ]
     },
     "execution_count": 28,
     "metadata": {},
     "output_type": "execute_result"
    }
   ],
   "source": [
    "top10WordsAcrossAll = allCounts[:10]\n",
    "top10WordsAcrossAll"
   ]
  },
  {
   "cell_type": "code",
   "execution_count": 29,
   "metadata": {},
   "outputs": [
    {
     "data": {
      "image/png": "[encoded data removed]",
      "text/plain": [
       "<Figure size 432x288 with 1 Axes>"
      ]
     },
     "metadata": {
      "needs_background": "light"
     },
     "output_type": "display_data"
    }
   ],
   "source": [
    "top10Words = []\n",
    "top10WordCounts = []\n",
    "for i in range(len(top10WordsAcrossAll)):\n",
    "    top10Words.append(top10WordsAcrossAll[i][1])\n",
    "    top10WordCounts.append(top10WordsAcrossAll[i][0])\n",
    "plt.bar(range(len(top10WordsAcrossAll)), top10WordCounts, tick_label=top10Words)\n",
    "plt.show()"
   ]
  },
  {
   "cell_type": "code",
   "execution_count": 30,
   "metadata": {},
   "outputs": [],
   "source": [
    "rock_word_counts = defaultdict(int)\n",
    "metal_word_counts = defaultdict(int)\n",
    "pop_word_counts = defaultdict(int)\n",
    "indie_word_counts = defaultdict(int)\n",
    "folk_word_counts = defaultdict(int)\n",
    "electronic_word_counts = defaultdict(int)\n",
    "rb_word_counts = defaultdict(int)\n",
    "jazz_word_counts = defaultdict(int)\n",
    "hiphop_word_counts = defaultdict(int)\n",
    "country_word_counts = defaultdict(int)"
   ]
  },
  {
   "cell_type": "code",
   "execution_count": 31,
   "metadata": {},
   "outputs": [],
   "source": [
    "for d in data_dict:\n",
    "    r = ''.join([c for c in data_dict[d]['lyrics'].lower() if not c in punct])\n",
    "    words = r.split()\n",
    "    if data_dict[d]['genre'] == 1:\n",
    "        for word in words:\n",
    "            if not word in stop_words:\n",
    "                rock_word_counts[word] += 1\n",
    "    elif data_dict[d]['genre'] == 2:\n",
    "        for word in words:\n",
    "            if not word in stop_words:\n",
    "                metal_word_counts[word] += 1\n",
    "    elif data_dict[d]['genre'] == 3:\n",
    "        for word in words:\n",
    "            if not word in stop_words:\n",
    "                pop_word_counts[word] += 1\n",
    "    elif data_dict[d]['genre'] == 4:\n",
    "        for word in words:\n",
    "            if not word in stop_words:\n",
    "                indie_word_counts[word] += 1\n",
    "    elif data_dict[d]['genre'] == 5:\n",
    "        for word in words:\n",
    "            if not word in stop_words:\n",
    "                folk_word_counts[word] += 1\n",
    "    elif data_dict[d]['genre'] == 6:\n",
    "        for word in words:\n",
    "            if not word in stop_words:\n",
    "                electronic_word_counts[word] += 1\n",
    "    elif data_dict[d]['genre'] == 7:\n",
    "        for word in words:\n",
    "            if not word in stop_words:\n",
    "                rb_word_counts[word] += 1\n",
    "    elif data_dict[d]['genre'] == 8:\n",
    "        for word in words:\n",
    "            if not word in stop_words:\n",
    "                jazz_word_counts[word] += 1\n",
    "    elif data_dict[d]['genre'] == 9:\n",
    "        for word in words:\n",
    "            if not word in stop_words:\n",
    "                hiphop_word_counts[word] += 1\n",
    "    else:\n",
    "        for word in words:\n",
    "            if not word in stop_words:\n",
    "                country_word_counts[word] += 1"
   ]
  },
  {
   "cell_type": "code",
   "execution_count": 32,
   "metadata": {},
   "outputs": [],
   "source": [
    "rockCounts = [(rock_word_counts[w], w) for w in rock_word_counts]\n",
    "metalCounts = [(metal_word_counts[w], w) for w in metal_word_counts]\n",
    "popCounts = [(pop_word_counts[w], w) for w in pop_word_counts]\n",
    "indieCounts = [(indie_word_counts[w], w) for w in indie_word_counts]\n",
    "folkCounts = [(folk_word_counts[w], w) for w in folk_word_counts]\n",
    "electronicCounts = [(electronic_word_counts[w], w) for w in electronic_word_counts]\n",
    "rbCounts = [(rb_word_counts[w], w) for w in rb_word_counts]\n",
    "jazzCounts = [(jazz_word_counts[w], w) for w in jazz_word_counts]\n",
    "hiphopCounts = [(hiphop_word_counts[w], w) for w in hiphop_word_counts]\n",
    "countryCounts = [(country_word_counts[w], w) for w in country_word_counts]\n",
    "rockCounts.sort(reverse=True)\n",
    "metalCounts.sort(reverse=True)\n",
    "popCounts.sort(reverse=True)\n",
    "indieCounts.sort(reverse=True)\n",
    "folkCounts.sort(reverse=True)\n",
    "electronicCounts.sort(reverse=True)\n",
    "rbCounts.sort(reverse=True)\n",
    "jazzCounts.sort(reverse=True)\n",
    "hiphopCounts.sort(reverse=True)\n",
    "countryCounts.sort(reverse=True)"
   ]
  },
  {
   "cell_type": "code",
   "execution_count": 33,
   "metadata": {},
   "outputs": [],
   "source": [
    "top10Rock = rockCounts[:10]\n",
    "top10Metal = metalCounts[:10]\n",
    "top10Pop = popCounts[:10]\n",
    "top10Indie = indieCounts[:10]\n",
    "top10Folk = folkCounts[:10]\n",
    "top10Electronic = electronicCounts[:10]\n",
    "top10Rb = rbCounts[:10]\n",
    "top10Jazz = jazzCounts[:10]\n",
    "top10Hiphop = hiphopCounts[:10]\n",
    "top10Country = countryCounts[:10]"
   ]
  },
  {
   "cell_type": "code",
   "execution_count": 34,
   "metadata": {},
   "outputs": [
    {
     "data": {
      "image/png": "[encoded data removed]",
      "text/plain": [
       "<Figure size 432x288 with 1 Axes>"
      ]
     },
     "metadata": {
      "needs_background": "light"
     },
     "output_type": "display_data"
    }
   ],
   "source": [
    "topRockCounts = []\n",
    "topRockWords = []\n",
    "for i in range(len(top10Rock)):\n",
    "    topRockWords.append(top10Rock[i][1])\n",
    "    topRockCounts.append(top10Rock[i][0])\n",
    "plt.bar(range(len(top10Rock)), topRockCounts, tick_label=topRockWords)\n",
    "plt.show()"
   ]
  },
  {
   "cell_type": "code",
   "execution_count": 35,
   "metadata": {},
   "outputs": [
    {
     "data": {
      "image/png": "[encoded data removed]",
      "text/plain": [
       "<Figure size 432x288 with 1 Axes>"
      ]
     },
     "metadata": {
      "needs_background": "light"
     },
     "output_type": "display_data"
    }
   ],
   "source": [
    "topMetalCounts = []\n",
    "topMetalWords = []\n",
    "for i in range(len(top10Metal)):\n",
    "    topMetalWords.append(top10Metal[i][1])\n",
    "    topMetalCounts.append(top10Metal[i][0])\n",
    "plt.bar(range(len(top10Metal)), topMetalCounts, tick_label=topMetalWords)\n",
    "plt.show()"
   ]
  },
  {
   "cell_type": "code",
   "execution_count": 36,
   "metadata": {},
   "outputs": [
    {
     "data": {
      "image/png": "[encoded data removed]",
      "text/plain": [
       "<Figure size 432x288 with 1 Axes>"
      ]
     },
     "metadata": {
      "needs_background": "light"
     },
     "output_type": "display_data"
    }
   ],
   "source": [
    "topPopCounts = []\n",
    "topPopWords = []\n",
    "for i in range(len(top10Pop)):\n",
    "    topPopWords.append(top10Pop[i][1])\n",
    "    topPopCounts.append(top10Pop[i][0])\n",
    "plt.bar(range(len(top10Pop)), topPopCounts, tick_label=topPopWords)\n",
    "plt.show()"
   ]
  },
  {
   "cell_type": "code",
   "execution_count": 37,
   "metadata": {},
   "outputs": [
    {
     "data": {
      "image/png": "[encoded data removed]",
      "text/plain": [
       "<Figure size 432x288 with 1 Axes>"
      ]
     },
     "metadata": {
      "needs_background": "light"
     },
     "output_type": "display_data"
    }
   ],
   "source": [
    "topIndieCounts = []\n",
    "topIndieWords = []\n",
    "for i in range(len(top10Indie)):\n",
    "    topIndieWords.append(top10Indie[i][1])\n",
    "    topIndieCounts.append(top10Indie[i][0])\n",
    "plt.bar(range(len(top10Indie)), topIndieCounts, tick_label=topIndieWords)\n",
    "plt.show()"
   ]
  },
  {
   "cell_type": "code",
   "execution_count": 38,
   "metadata": {},
   "outputs": [
    {
     "data": {
      "image/png": "[encoded data removed]",
      "text/plain": [
       "<Figure size 432x288 with 1 Axes>"
      ]
     },
     "metadata": {
      "needs_background": "light"
     },
     "output_type": "display_data"
    }
   ],
   "source": [
    "topFolkCounts = []\n",
    "topFolkWords = []\n",
    "for i in range(len(top10Folk)):\n",
    "    topFolkWords.append(top10Folk[i][1])\n",
    "    topFolkCounts.append(top10Folk[i][0])\n",
    "plt.bar(range(len(top10Folk)), topFolkCounts, tick_label=topFolkWords)\n",
    "plt.show()"
   ]
  },
  {
   "cell_type": "code",
   "execution_count": 39,
   "metadata": {},
   "outputs": [
    {
     "data": {
      "image/png": "[encoded data removed]",
      "text/plain": [
       "<Figure size 432x288 with 1 Axes>"
      ]
     },
     "metadata": {
      "needs_background": "light"
     },
     "output_type": "display_data"
    }
   ],
   "source": [
    "topElectronicCounts = []\n",
    "topElectronicWords = []\n",
    "for i in range(len(top10Electronic)):\n",
    "    topElectronicWords.append(top10Electronic[i][1])\n",
    "    topElectronicCounts.append(top10Electronic[i][0])\n",
    "plt.bar(range(len(top10Electronic)), topElectronicCounts, tick_label=topElectronicWords)\n",
    "plt.show()"
   ]
  },
  {
   "cell_type": "code",
   "execution_count": 40,
   "metadata": {},
   "outputs": [
    {
     "data": {
      "image/png": "[encoded data removed]",
      "text/plain": [
       "<Figure size 432x288 with 1 Axes>"
      ]
     },
     "metadata": {
      "needs_background": "light"
     },
     "output_type": "display_data"
    }
   ],
   "source": [
    "topRbCounts = []\n",
    "topRbWords = []\n",
    "for i in range(len(top10Rb)):\n",
    "    topRbWords.append(top10Rb[i][1])\n",
    "    topRbCounts.append(top10Rb[i][0])\n",
    "plt.bar(range(len(top10Rb)), topRbCounts, tick_label=topRbWords)\n",
    "plt.show()"
   ]
  },
  {
   "cell_type": "code",
   "execution_count": 41,
   "metadata": {},
   "outputs": [
    {
     "data": {
      "image/png": "[encoded data removed]",
      "text/plain": [
       "<Figure size 432x288 with 1 Axes>"
      ]
     },
     "metadata": {
      "needs_background": "light"
     },
     "output_type": "display_data"
    }
   ],
   "source": [
    "topJazzCounts = []\n",
    "topJazzWords = []\n",
    "for i in range(len(top10Jazz)):\n",
    "    topJazzWords.append(top10Jazz[i][1])\n",
    "    topJazzCounts.append(top10Jazz[i][0])\n",
    "plt.bar(range(len(top10Jazz)), topJazzCounts, tick_label=topJazzWords)\n",
    "plt.show()"
   ]
  },
  {
   "cell_type": "code",
   "execution_count": 42,
   "metadata": {},
   "outputs": [
    {
     "data": {
      "image/png": "[encoded data removed]",
      "text/plain": [
       "<Figure size 432x288 with 1 Axes>"
      ]
     },
     "metadata": {
      "needs_background": "light"
     },
     "output_type": "display_data"
    }
   ],
   "source": [
    "topHiphopCounts = []\n",
    "topHiphopWords = []\n",
    "for i in range(len(top10Hiphop)):\n",
    "    topHiphopWords.append(top10Hiphop[i][1])\n",
    "    topHiphopCounts.append(top10Hiphop[i][0])\n",
    "plt.bar(range(len(top10Hiphop)), topHiphopCounts, tick_label=topHiphopWords)\n",
    "plt.show()"
   ]
  },
  {
   "cell_type": "code",
   "execution_count": 43,
   "metadata": {},
   "outputs": [
    {
     "data": {
      "image/png": "[encoded data removed]",
      "text/plain": [
       "<Figure size 432x288 with 1 Axes>"
      ]
     },
     "metadata": {
      "needs_background": "light"
     },
     "output_type": "display_data"
    }
   ],
   "source": [
    "topCountryCounts = []\n",
    "topCountryWords = []\n",
    "for i in range(len(top10Country)):\n",
    "    topCountryWords.append(top10Country[i][1])\n",
    "    topCountryCounts.append(top10Country[i][0])\n",
    "plt.bar(range(len(top10Country)), topCountryCounts, tick_label=topCountryWords)\n",
    "plt.show()"
   ]
  },
  {
   "cell_type": "code",
   "execution_count": 44,
   "metadata": {},
   "outputs": [],
   "source": [
    "averageNumWordsRock = averageNumWordsMetal = averageNumWordsPop = averageNumWordsIndie = averageNumWordsFolk = averageNumWordsElectronic = averageNumWordsRb = averageNumWordsJazz = averageNumWordsHiphop = averageNumWordsCountry = 0\n",
    "totalRockCount = totalMetalCount = totalPopCount = totalIndieCount = totalFolkCount = totalElectronicCount = totalRbCount = totalJazzCount = totalHiphopCount = totalCountryCount = 0\n",
    "for d in data_dict:\n",
    "    r = ''.join([c for c in data_dict[d]['lyrics'].lower() if not c in punct])\n",
    "    words = r.split()\n",
    "    if data_dict[d]['genre'] == 1:\n",
    "        for word in words:\n",
    "            totalRockCount += 1\n",
    "    elif data_dict[d]['genre'] == 2:\n",
    "        for word in words:\n",
    "            totalMetalCount += 1\n",
    "    elif data_dict[d]['genre'] == 3:\n",
    "        for word in words:\n",
    "            totalPopCount += 1\n",
    "    elif data_dict[d]['genre'] == 4:\n",
    "        for word in words:\n",
    "            totalIndieCount += 1\n",
    "    elif data_dict[d]['genre'] == 5:\n",
    "        for word in words:\n",
    "            totalFolkCount += 1\n",
    "    elif data_dict[d]['genre'] == 6:\n",
    "        for word in words:\n",
    "            totalElectronicCount += 1\n",
    "    elif data_dict[d]['genre'] == 7:\n",
    "        for word in words:\n",
    "            totalRbCount += 1\n",
    "    elif data_dict[d]['genre'] == 8:\n",
    "        for word in words:\n",
    "            totalJazzCount += 1\n",
    "    elif data_dict[d]['genre'] == 9:\n",
    "        for word in words:\n",
    "            totalHiphopCount += 1\n",
    "    else:\n",
    "        for word in words:\n",
    "            totalCountryCount += 1\n",
    "averageNumWordsRock = totalRockCount/totalGenreCounts[1]\n",
    "averageNumWordsMetal = totalMetalCount/totalGenreCounts[2]\n",
    "averageNumWordsPop = totalPopCount/totalGenreCounts[3]\n",
    "averageNumWordsIndie = totalIndieCount/totalGenreCounts[4]\n",
    "averageNumWordsFolk = totalFolkCount/totalGenreCounts[5]\n",
    "averageNumWordsElectronic = totalElectronicCount/totalGenreCounts[6]\n",
    "averageNumWordsRb = totalRbCount/totalGenreCounts[7]\n",
    "averageNumWordsJazz = totalJazzCount/totalGenreCounts[8]\n",
    "averageNumWordsHiphop = totalHiphopCount/totalGenreCounts[9]\n",
    "averageNumWordsCountry = totalCountryCount/totalGenreCounts[10]"
   ]
  },
  {
   "cell_type": "code",
   "execution_count": 45,
   "metadata": {},
   "outputs": [
    {
     "data": {
      "image/png": "[encoded data removed]",
      "text/plain": [
       "<Figure size 432x288 with 1 Axes>"
      ]
     },
     "metadata": {
      "needs_background": "light"
     },
     "output_type": "display_data"
    }
   ],
   "source": [
    "averageCounts = [averageNumWordsRock, averageNumWordsMetal, averageNumWordsPop, averageNumWordsIndie, averageNumWordsFolk, averageNumWordsElectronic, averageNumWordsRb, averageNumWordsJazz, averageNumWordsHiphop, averageNumWordsCountry]\n",
    "plt.bar(range(len(averageCounts)), averageCounts, tick_label=genres)\n",
    "plt.show()"
   ]
  },
  {
   "cell_type": "code",
   "execution_count": 46,
   "metadata": {},
   "outputs": [
    {
     "data": {
      "text/plain": [
       "{'dont', 'im', 'know', 'like'}"
      ]
     },
     "execution_count": 46,
     "metadata": {},
     "output_type": "execute_result"
    }
   ],
   "source": [
    "commonWords = []\n",
    "commonWords = set(topRockWords).intersection(set(topMetalWords))\n",
    "commonWords = set(commonWords).intersection(set(topPopWords))\n",
    "commonWords = set(commonWords).intersection(set(topIndieWords))\n",
    "commonWords = set(commonWords).intersection(set(topFolkWords))\n",
    "commonWords = set(commonWords).intersection(set(topElectronicWords))\n",
    "commonWords = set(commonWords).intersection(set(topRbWords))\n",
    "commonWords = set(commonWords).intersection(set(topJazzWords))\n",
    "commonWords = set(commonWords).intersection(set(topHiphopWords))\n",
    "commonWords = set(commonWords).intersection(set(topCountryWords))\n",
    "commonWords"
   ]
  },
  {
   "cell_type": "code",
   "execution_count": 47,
   "metadata": {},
   "outputs": [],
   "source": [
    "# Baseline Prediciton"
   ]
  },
  {
   "cell_type": "code",
   "execution_count": 48,
   "metadata": {},
   "outputs": [],
   "source": [
    "data2 = pd.read_csv('train.csv')\n",
    "data2 = data2[['Genre', 'Language', 'Lyrics']]\n",
    "data2.rename(columns={'Genre':'genre', 'Language':'lang', 'Lyrics':'lyrics'}, inplace=True)\n",
    "data2['genre'][data2['genre'] == 'Rock'] = 1\n",
    "data2['genre'][data2['genre'] == 'Metal'] = 2\n",
    "data2['genre'][data2['genre'] == 'Pop'] = 3\n",
    "data2['genre'][data2['genre'] == 'Indie'] = 4\n",
    "data2['genre'][data2['genre'] == 'Folk'] = 5\n",
    "data2['genre'][data2['genre'] == 'Electronic'] = 6\n",
    "data2['genre'][data2['genre'] == 'R&B'] = 7\n",
    "data2['genre'][data2['genre'] == 'Jazz'] = 8\n",
    "data2['genre'][data2['genre'] == 'Hip-Hop'] = 9\n",
    "data2['genre'][data2['genre'] == 'Country'] = 10\n",
    "data2.dropna(axis=0, inplace=True)\n",
    "data2 = data2.reset_index()\n",
    "data_dict2 = data2.set_index('index').T.to_dict()"
   ]
  },
  {
   "cell_type": "code",
   "execution_count": 49,
   "metadata": {},
   "outputs": [
    {
     "name": "stdout",
     "output_type": "stream",
     "text": [
      "Baseline Accuracy: 0.33102414310086337\n"
     ]
    }
   ],
   "source": [
    "# Rock = 1, Metal = 2, Pop = 3, Indie = 4, Folk = 5, Electronic = 6, R&B = 7, Jazz = 8, Hip-hop = 9, Country = 10\n",
    "genreDict = {\n",
    "    \"Rock\": 1,\n",
    "    \"Metal\": 2,\n",
    "    \"Pop\": 3,\n",
    "    \"Indie\": 4,\n",
    "    \"Folk\": 5,\n",
    "    \"Electronic\": 6,\n",
    "    \"R&B\": 7,\n",
    "    \"Jazz\": 8,\n",
    "    \"Hip-hop\": 9,\n",
    "    \"Country\": 10\n",
    "}\n",
    "\n",
    "data_list = list(data_dict.values())\n",
    "data_list2 = list(data_dict2.values())\n",
    "temp = list(zip(data_list, data_list2))\n",
    "random.shuffle(temp)\n",
    "data_list, data_list2 = zip(*temp)\n",
    "data_list, data_list2 = list(data_list), list(data_list2)\n",
    "nTrain = int(len(data_list) * 0.8)\n",
    "dataTrain = data_list[:nTrain]\n",
    "dataTest = data_list[nTrain:]\n",
    "dataValid = data_list2[nTrain:]\n",
    "\n",
    "for d in dataTest:\n",
    "    d['genre'] = 1 # If there is no evidence, guess the most popular genre: Rock\n",
    "    if \"she\" in d['lyrics']: # Rock\n",
    "        d['genre'] = 1\n",
    "    elif \"death\" in d['lyrics']: # Metal\n",
    "        d['genre'] = 2\n",
    "    elif \"love\" in d['lyrics']: # Pop\n",
    "        d['genre'] = 3\n",
    "    elif \"sleep\" in d['lyrics']: # Indie\n",
    "        d['genre'] = 4\n",
    "    elif \"old\" in d['lyrics']: # Folk\n",
    "        d['genre'] = 5\n",
    "    elif \"feel\" in d['lyrics']: # Electronic\n",
    "        d['genre'] = 6\n",
    "    elif \"funk\" in d['lyrics']: # R&B\n",
    "        d['genre'] = 7\n",
    "    elif \"jazz\" in d['lyrics']: # Jazz\n",
    "        d['genre'] = 8\n",
    "    elif \"money\" in d['lyrics']: # Hip-hop\n",
    "        d['genre'] = 9\n",
    "    elif \"country\" in d['lyrics']: # Country\n",
    "        d['genre'] = 10\n",
    "        \n",
    "correct = 0\n",
    "count = 0\n",
    "for (dt, dv) in zip(dataTest, dataValid):\n",
    "    if dt['genre'] == dv['genre']:\n",
    "        correct += 1\n",
    "    count += 1\n",
    "\n",
    "acc_baseline = correct/count\n",
    "print(\"Baseline Accuracy: \" + str(acc_baseline))\n",
    "genrePredict = [d['genre'] for d in dataTest]\n",
    "genreTest = [d['genre'] for d in dataValid]\n",
    "cm = confusion_matrix(genreTest, genrePredict)"
   ]
  },
  {
   "cell_type": "code",
   "execution_count": 50,
   "metadata": {},
   "outputs": [],
   "source": [
    "cm_plot = ConfusionMatrixDisplay(cm, range(10))"
   ]
  },
  {
   "cell_type": "code",
   "execution_count": 51,
   "metadata": {},
   "outputs": [
    {
     "data": {
      "text/plain": [
       "<sklearn.metrics._plot.confusion_matrix.ConfusionMatrixDisplay at 0x15a975c48e0>"
      ]
     },
     "execution_count": 51,
     "metadata": {},
     "output_type": "execute_result"
    },
    {
     "data": {
      "image/png": "[encoded data removed]",
      "text/plain": [
       "<Figure size 792x792 with 2 Axes>"
      ]
     },
     "metadata": {
      "needs_background": "light"
     },
     "output_type": "display_data"
    }
   ],
   "source": [
    "fig, ax = plt.subplots(figsize=(11,11))\n",
    "cm_plot.plot(ax=ax, values_format='')"
   ]
  },
  {
   "cell_type": "code",
   "execution_count": 52,
   "metadata": {},
   "outputs": [],
   "source": [
    "precision_baseline = [cm[i][i] for i in range(len(cm))] / cm.sum(axis=0)\n",
    "avg_precision_baseline = precision_baseline.mean()"
   ]
  },
  {
   "cell_type": "code",
   "execution_count": 53,
   "metadata": {},
   "outputs": [
    {
     "name": "stdout",
     "output_type": "stream",
     "text": [
      "Baseline average precision:  0.13981957339885265\n"
     ]
    }
   ],
   "source": [
    "print('Baseline average precision: ', avg_precision_baseline)"
   ]
  },
  {
   "cell_type": "code",
   "execution_count": null,
   "metadata": {},
   "outputs": [],
   "source": []
  }
 ],
 "metadata": {
  "kernelspec": {
   "display_name": "Python 3",
   "language": "python",
   "name": "python3"
  },
  "language_info": {
   "codemirror_mode": {
    "name": "ipython",
    "version": 3
   },
   "file_extension": ".py",
   "mimetype": "text/x-python",
   "name": "python",
   "nbconvert_exporter": "python",
   "pygments_lexer": "ipython3",
   "version": "3.8.5"
  }
 },
 "nbformat": 4,
 "nbformat_minor": 4
}
